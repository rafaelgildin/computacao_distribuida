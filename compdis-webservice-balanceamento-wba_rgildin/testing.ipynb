{
 "cells": [
  {
   "cell_type": "code",
   "execution_count": 1,
   "metadata": {},
   "outputs": [],
   "source": [
    "# url = f'http://127.0.0.1:5000/convertemoeda/{valor}'"
   ]
  },
  {
   "cell_type": "code",
   "execution_count": 46,
   "metadata": {},
   "outputs": [
    {
     "name": "stdout",
     "output_type": "stream",
     "text": [
      "{\n",
      "  \"conversao\": {\n",
      "    \"dolar\": 2.04,\n",
      "    \"euro\": 1.86,\n",
      "    \"real\": 10.0\n",
      "  },\n",
      "  \"hostname\": \"webserver1-rafael-31940242\"\n",
      "}\n",
      "\n"
     ]
    }
   ],
   "source": [
    "import requests\n",
    "valor = 10.0\n",
    "url = f'http://52.91.245.165/convertemoeda/{valor}'\n",
    "x = requests.get(url)\n",
    "print(x.text)"
   ]
  },
  {
   "cell_type": "code",
   "execution_count": 47,
   "metadata": {},
   "outputs": [
    {
     "name": "stdout",
     "output_type": "stream",
     "text": [
      "{\n",
      "  \"conversao\": {\n",
      "    \"dolar\": 2.04,\n",
      "    \"euro\": 1.86,\n",
      "    \"real\": 10.0\n",
      "  },\n",
      "  \"hostname\": \"webserver2-rafael-31940242\"\n",
      "}\n",
      "\n"
     ]
    }
   ],
   "source": [
    "x = requests.get(url)\n",
    "print(x.text)"
   ]
  }
 ],
 "metadata": {
  "kernelspec": {
   "display_name": "py37",
   "language": "python",
   "name": "python3"
  },
  "language_info": {
   "codemirror_mode": {
    "name": "ipython",
    "version": 3
   },
   "file_extension": ".py",
   "mimetype": "text/x-python",
   "name": "python",
   "nbconvert_exporter": "python",
   "pygments_lexer": "ipython3",
   "version": "3.7.13"
  },
  "orig_nbformat": 4
 },
 "nbformat": 4,
 "nbformat_minor": 2
}
